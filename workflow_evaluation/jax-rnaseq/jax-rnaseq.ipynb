{
 "cells": [
  {
   "cell_type": "code",
   "execution_count": 2,
   "id": "cb1036fc-59f4-4fda-b805-651cb38b266d",
   "metadata": {},
   "outputs": [],
   "source": [
    "import urllib.request as ur\n",
    "import re\n",
    "import pandas as pd\n"
   ]
  },
  {
   "cell_type": "code",
   "execution_count": 3,
   "id": "88ff86de-e7b2-4385-95e8-95eec235e3fa",
   "metadata": {},
   "outputs": [],
   "source": [
    "samples = ['J000092712', 'J000106560', 'TM00016', 'TM00065', 'TM00089', 'TM00090', 'TM00090', 'TM00096', 'TM00107', 'TM00137', 'TM00170', 'TM00226', 'TM00231', 'TM00256', 'TM00279', 'TM00314', 'TM00335', 'TM00999', 'TM01571']\n",
    "#samples = ['J000092712', 'TM00090']"
   ]
  },
  {
   "cell_type": "code",
   "execution_count": 66,
   "id": "55170177-6e45-4760-93e2-755191fd7f51",
   "metadata": {},
   "outputs": [],
   "source": [
    "jax_strna = pd.DataFrame({'Gene': []}).set_index('Gene')\n",
    "jax_rna = pd.DataFrame({'Gene': []}).set_index('Gene')\n",
    "\n",
    "for sample in samples:\n",
    "    page = ur.urlopen(f'http://tumor.informatics.jax.org/mtbwi/pdxDetails.do?modelID={sample}').read().split(b'\\r\\n')\n",
    "    for line in page:\n",
    "        data,count = re.subn(b'\\s*expressionData = google.visualization.arrayToDataTable\\((.*)\\);\\s*',b'\\g<1>',line)\n",
    "        if count:\n",
    "            data = re.sub(b'true',b'True',data)\n",
    "            data = re.sub(b'false',b'False',data)\n",
    "            data = re.sub(b\"{role:'certainty'}\",b'None',data)\n",
    "            data = re.sub(b'null',b'None',data)\n",
    "            data = eval(data)\n",
    "            expr_data = pd.DataFrame(data[1:],columns=data[0]).set_index('Gene')\n",
    "            counts = expr_data.filter(like='stRNA_Seq')\n",
    "            if not counts.columns.empty:\n",
    "                counts.columns=[sample]\n",
    "                jax_strna = pd.concat([jax_strna, counts],axis = 1)\n",
    "            else:\n",
    "                counts = expr_data.filter(like=' RNA_Seq')\n",
    "                counts.columns=[sample]\n",
    "                jax_rna = pd.concat([jax_rna,counts],axis = 1) "
   ]
  },
  {
   "cell_type": "code",
   "execution_count": 17,
   "id": "ea5a4093-f110-4098-ae19-f1e9ac496c4c",
   "metadata": {},
   "outputs": [],
   "source": [
    "meansd_rna = pd.read_csv('rnaseq-meansd.csv',delimiter=';').rename(columns={'gene_symbol_hint':'Gene'}).set_index('Gene').filter(items=['mean','sd'])\n",
    "meansd_strna = pd.read_csv('strnaseq-meansd.csv',delimiter=';').rename(columns={'gene_symbol_hint':'Gene'}).set_index('Gene').filter(items=['mean','sd'])"
   ]
  },
  {
   "cell_type": "code",
   "execution_count": 70,
   "id": "ffbd0c5c-edd9-40c6-b2e3-deccba876cbe",
   "metadata": {},
   "outputs": [],
   "source": [
    "meansd_rna = meansd_rna[meansd_rna.index.isin(jax_rna.index)]\n",
    "jax_rna = jax_rna[jax_rna.index.isin(meansd_rna.index)]\n",
    "\n",
    "meansd_strna = meansd_strna[meansd_strna.index.isin(jax_strna.index)]\n",
    "jax_strna = jax_strna[jax_strna.index.isin(meansd_strna.index)]"
   ]
  },
  {
   "cell_type": "code",
   "execution_count": 95,
   "id": "24279d34-1602-43a8-a880-cd4fc3265ad6",
   "metadata": {},
   "outputs": [],
   "source": [
    "jax_expr = pd.concat([jax_rna.mul(meansd_rna['sd'],axis='index').add(meansd_rna['mean'],axis='index'),\n",
    "    jax_strna.mul(meansd_strna['sd'],axis='index').add(meansd_strna['mean'],axis='index')], axis=1)"
   ]
  },
  {
   "cell_type": "code",
   "execution_count": null,
   "id": "1f1305c7-6320-4b28-b3b2-863f2dfb40ab",
   "metadata": {},
   "outputs": [],
   "source": []
  }
 ],
 "metadata": {
  "kernelspec": {
   "display_name": "Python 3 (ipykernel)",
   "language": "python",
   "name": "python3"
  },
  "language_info": {
   "codemirror_mode": {
    "name": "ipython",
    "version": 3
   },
   "file_extension": ".py",
   "mimetype": "text/x-python",
   "name": "python",
   "nbconvert_exporter": "python",
   "pygments_lexer": "ipython3",
   "version": "3.10.5"
  }
 },
 "nbformat": 4,
 "nbformat_minor": 5
}
